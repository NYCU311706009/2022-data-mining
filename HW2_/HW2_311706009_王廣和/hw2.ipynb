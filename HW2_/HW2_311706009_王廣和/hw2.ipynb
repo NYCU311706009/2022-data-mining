{
 "cells": [
  {
   "cell_type": "markdown",
   "id": "6a2d8f48",
   "metadata": {},
   "source": [
    "# 作業三\n",
    "## 1.資料前處理 data preprocessing"
   ]
  },
  {
   "cell_type": "markdown",
   "id": "1377c443",
   "metadata": {},
   "source": [
    "### a. 讀取csv前10000筆，保留text與score"
   ]
  },
  {
   "cell_type": "code",
   "execution_count": 1,
   "id": "e6e670c4",
   "metadata": {},
   "outputs": [],
   "source": [
    "import pandas as pd "
   ]
  },
  {
   "cell_type": "code",
   "execution_count": 2,
   "id": "5218f08f",
   "metadata": {},
   "outputs": [],
   "source": [
    "df = pd.read_csv(r'Reviews.csv')"
   ]
  },
  {
   "cell_type": "code",
   "execution_count": 3,
   "id": "24ee25fa",
   "metadata": {},
   "outputs": [
    {
     "data": {
      "text/html": [
       "<div>\n",
       "<style scoped>\n",
       "    .dataframe tbody tr th:only-of-type {\n",
       "        vertical-align: middle;\n",
       "    }\n",
       "\n",
       "    .dataframe tbody tr th {\n",
       "        vertical-align: top;\n",
       "    }\n",
       "\n",
       "    .dataframe thead th {\n",
       "        text-align: right;\n",
       "    }\n",
       "</style>\n",
       "<table border=\"1\" class=\"dataframe\">\n",
       "  <thead>\n",
       "    <tr style=\"text-align: right;\">\n",
       "      <th></th>\n",
       "      <th>Id</th>\n",
       "      <th>ProductId</th>\n",
       "      <th>UserId</th>\n",
       "      <th>ProfileName</th>\n",
       "      <th>HelpfulnessNumerator</th>\n",
       "      <th>HelpfulnessDenominator</th>\n",
       "      <th>Score</th>\n",
       "      <th>Time</th>\n",
       "      <th>Summary</th>\n",
       "      <th>Text</th>\n",
       "    </tr>\n",
       "  </thead>\n",
       "  <tbody>\n",
       "    <tr>\n",
       "      <th>0</th>\n",
       "      <td>1</td>\n",
       "      <td>B001E4KFG0</td>\n",
       "      <td>A3SGXH7AUHU8GW</td>\n",
       "      <td>delmartian</td>\n",
       "      <td>1</td>\n",
       "      <td>1</td>\n",
       "      <td>5</td>\n",
       "      <td>1303862400</td>\n",
       "      <td>Good Quality Dog Food</td>\n",
       "      <td>I have bought several of the Vitality canned d...</td>\n",
       "    </tr>\n",
       "    <tr>\n",
       "      <th>1</th>\n",
       "      <td>2</td>\n",
       "      <td>B00813GRG4</td>\n",
       "      <td>A1D87F6ZCVE5NK</td>\n",
       "      <td>dll pa</td>\n",
       "      <td>0</td>\n",
       "      <td>0</td>\n",
       "      <td>1</td>\n",
       "      <td>1346976000</td>\n",
       "      <td>Not as Advertised</td>\n",
       "      <td>Product arrived labeled as Jumbo Salted Peanut...</td>\n",
       "    </tr>\n",
       "    <tr>\n",
       "      <th>2</th>\n",
       "      <td>3</td>\n",
       "      <td>B000LQOCH0</td>\n",
       "      <td>ABXLMWJIXXAIN</td>\n",
       "      <td>Natalia Corres \"Natalia Corres\"</td>\n",
       "      <td>1</td>\n",
       "      <td>1</td>\n",
       "      <td>4</td>\n",
       "      <td>1219017600</td>\n",
       "      <td>\"Delight\" says it all</td>\n",
       "      <td>This is a confection that has been around a fe...</td>\n",
       "    </tr>\n",
       "    <tr>\n",
       "      <th>3</th>\n",
       "      <td>4</td>\n",
       "      <td>B000UA0QIQ</td>\n",
       "      <td>A395BORC6FGVXV</td>\n",
       "      <td>Karl</td>\n",
       "      <td>3</td>\n",
       "      <td>3</td>\n",
       "      <td>2</td>\n",
       "      <td>1307923200</td>\n",
       "      <td>Cough Medicine</td>\n",
       "      <td>If you are looking for the secret ingredient i...</td>\n",
       "    </tr>\n",
       "    <tr>\n",
       "      <th>4</th>\n",
       "      <td>5</td>\n",
       "      <td>B006K2ZZ7K</td>\n",
       "      <td>A1UQRSCLF8GW1T</td>\n",
       "      <td>Michael D. Bigham \"M. Wassir\"</td>\n",
       "      <td>0</td>\n",
       "      <td>0</td>\n",
       "      <td>5</td>\n",
       "      <td>1350777600</td>\n",
       "      <td>Great taffy</td>\n",
       "      <td>Great taffy at a great price.  There was a wid...</td>\n",
       "    </tr>\n",
       "  </tbody>\n",
       "</table>\n",
       "</div>"
      ],
      "text/plain": [
       "   Id   ProductId          UserId                      ProfileName  \\\n",
       "0   1  B001E4KFG0  A3SGXH7AUHU8GW                       delmartian   \n",
       "1   2  B00813GRG4  A1D87F6ZCVE5NK                           dll pa   \n",
       "2   3  B000LQOCH0   ABXLMWJIXXAIN  Natalia Corres \"Natalia Corres\"   \n",
       "3   4  B000UA0QIQ  A395BORC6FGVXV                             Karl   \n",
       "4   5  B006K2ZZ7K  A1UQRSCLF8GW1T    Michael D. Bigham \"M. Wassir\"   \n",
       "\n",
       "   HelpfulnessNumerator  HelpfulnessDenominator  Score        Time  \\\n",
       "0                     1                       1      5  1303862400   \n",
       "1                     0                       0      1  1346976000   \n",
       "2                     1                       1      4  1219017600   \n",
       "3                     3                       3      2  1307923200   \n",
       "4                     0                       0      5  1350777600   \n",
       "\n",
       "                 Summary                                               Text  \n",
       "0  Good Quality Dog Food  I have bought several of the Vitality canned d...  \n",
       "1      Not as Advertised  Product arrived labeled as Jumbo Salted Peanut...  \n",
       "2  \"Delight\" says it all  This is a confection that has been around a fe...  \n",
       "3         Cough Medicine  If you are looking for the secret ingredient i...  \n",
       "4            Great taffy  Great taffy at a great price.  There was a wid...  "
      ]
     },
     "execution_count": 3,
     "metadata": {},
     "output_type": "execute_result"
    }
   ],
   "source": [
    "df.head()"
   ]
  },
  {
   "cell_type": "code",
   "execution_count": 4,
   "id": "947012a8",
   "metadata": {},
   "outputs": [
    {
     "data": {
      "text/plain": [
       "10000"
      ]
     },
     "execution_count": 4,
     "metadata": {},
     "output_type": "execute_result"
    }
   ],
   "source": [
    "sample_data = df[['Text','Score']][:10000]\n",
    "len(sample_data)"
   ]
  },
  {
   "cell_type": "code",
   "execution_count": 5,
   "id": "76673a37",
   "metadata": {},
   "outputs": [
    {
     "data": {
      "text/html": [
       "<div>\n",
       "<style scoped>\n",
       "    .dataframe tbody tr th:only-of-type {\n",
       "        vertical-align: middle;\n",
       "    }\n",
       "\n",
       "    .dataframe tbody tr th {\n",
       "        vertical-align: top;\n",
       "    }\n",
       "\n",
       "    .dataframe thead th {\n",
       "        text-align: right;\n",
       "    }\n",
       "</style>\n",
       "<table border=\"1\" class=\"dataframe\">\n",
       "  <thead>\n",
       "    <tr style=\"text-align: right;\">\n",
       "      <th></th>\n",
       "      <th>Text</th>\n",
       "      <th>Score</th>\n",
       "    </tr>\n",
       "  </thead>\n",
       "  <tbody>\n",
       "    <tr>\n",
       "      <th>0</th>\n",
       "      <td>I have bought several of the Vitality canned d...</td>\n",
       "      <td>5</td>\n",
       "    </tr>\n",
       "    <tr>\n",
       "      <th>1</th>\n",
       "      <td>Product arrived labeled as Jumbo Salted Peanut...</td>\n",
       "      <td>1</td>\n",
       "    </tr>\n",
       "    <tr>\n",
       "      <th>2</th>\n",
       "      <td>This is a confection that has been around a fe...</td>\n",
       "      <td>4</td>\n",
       "    </tr>\n",
       "    <tr>\n",
       "      <th>3</th>\n",
       "      <td>If you are looking for the secret ingredient i...</td>\n",
       "      <td>2</td>\n",
       "    </tr>\n",
       "    <tr>\n",
       "      <th>4</th>\n",
       "      <td>Great taffy at a great price.  There was a wid...</td>\n",
       "      <td>5</td>\n",
       "    </tr>\n",
       "  </tbody>\n",
       "</table>\n",
       "</div>"
      ],
      "text/plain": [
       "                                                Text  Score\n",
       "0  I have bought several of the Vitality canned d...      5\n",
       "1  Product arrived labeled as Jumbo Salted Peanut...      1\n",
       "2  This is a confection that has been around a fe...      4\n",
       "3  If you are looking for the secret ingredient i...      2\n",
       "4  Great taffy at a great price.  There was a wid...      5"
      ]
     },
     "execution_count": 5,
     "metadata": {},
     "output_type": "execute_result"
    }
   ],
   "source": [
    "sample_data.head()"
   ]
  },
  {
   "cell_type": "markdown",
   "id": "60080441",
   "metadata": {},
   "source": [
    "### 將 \"Score\" 欄位內值大於等於4的轉成1(positive)，其餘轉成0(negative) "
   ]
  },
  {
   "cell_type": "code",
   "execution_count": 6,
   "id": "19d622e1",
   "metadata": {},
   "outputs": [],
   "source": [
    "sample_data['Score'] = sample_data['Score'].map(lambda x: 1 if x>=4 else 0) #此 map是pandas map不是一般python map"
   ]
  },
  {
   "cell_type": "code",
   "execution_count": 7,
   "id": "bb13257d",
   "metadata": {},
   "outputs": [
    {
     "data": {
      "text/html": [
       "<div>\n",
       "<style scoped>\n",
       "    .dataframe tbody tr th:only-of-type {\n",
       "        vertical-align: middle;\n",
       "    }\n",
       "\n",
       "    .dataframe tbody tr th {\n",
       "        vertical-align: top;\n",
       "    }\n",
       "\n",
       "    .dataframe thead th {\n",
       "        text-align: right;\n",
       "    }\n",
       "</style>\n",
       "<table border=\"1\" class=\"dataframe\">\n",
       "  <thead>\n",
       "    <tr style=\"text-align: right;\">\n",
       "      <th></th>\n",
       "      <th>Text</th>\n",
       "      <th>Score</th>\n",
       "    </tr>\n",
       "  </thead>\n",
       "  <tbody>\n",
       "    <tr>\n",
       "      <th>0</th>\n",
       "      <td>I have bought several of the Vitality canned d...</td>\n",
       "      <td>1</td>\n",
       "    </tr>\n",
       "    <tr>\n",
       "      <th>1</th>\n",
       "      <td>Product arrived labeled as Jumbo Salted Peanut...</td>\n",
       "      <td>0</td>\n",
       "    </tr>\n",
       "    <tr>\n",
       "      <th>2</th>\n",
       "      <td>This is a confection that has been around a fe...</td>\n",
       "      <td>1</td>\n",
       "    </tr>\n",
       "    <tr>\n",
       "      <th>3</th>\n",
       "      <td>If you are looking for the secret ingredient i...</td>\n",
       "      <td>0</td>\n",
       "    </tr>\n",
       "    <tr>\n",
       "      <th>4</th>\n",
       "      <td>Great taffy at a great price.  There was a wid...</td>\n",
       "      <td>1</td>\n",
       "    </tr>\n",
       "  </tbody>\n",
       "</table>\n",
       "</div>"
      ],
      "text/plain": [
       "                                                Text  Score\n",
       "0  I have bought several of the Vitality canned d...      1\n",
       "1  Product arrived labeled as Jumbo Salted Peanut...      0\n",
       "2  This is a confection that has been around a fe...      1\n",
       "3  If you are looking for the secret ingredient i...      0\n",
       "4  Great taffy at a great price.  There was a wid...      1"
      ]
     },
     "execution_count": 7,
     "metadata": {},
     "output_type": "execute_result"
    }
   ],
   "source": [
    "sample_data.head()"
   ]
  },
  {
   "cell_type": "markdown",
   "id": "a11e791f",
   "metadata": {},
   "source": [
    "### 將text欄位內的文字利用分割符號切割"
   ]
  },
  {
   "cell_type": "code",
   "execution_count": 8,
   "id": "0fef2136",
   "metadata": {},
   "outputs": [],
   "source": [
    "#sample_data['Text'] = sample_data['Text'].map(lambda x: x.split())\n",
    "#sample_data['Text'][0]"
   ]
  },
  {
   "cell_type": "markdown",
   "id": "3f03794f",
   "metadata": {},
   "source": [
    "### b. 去除停頓詞stop words "
   ]
  },
  {
   "cell_type": "code",
   "execution_count": 9,
   "id": "fe906269",
   "metadata": {},
   "outputs": [],
   "source": [
    "from sklearn.feature_extraction.text import CountVectorizer\n",
    "from sklearn.feature_extraction.text import TfidfTransformer\n",
    "from sklearn.feature_extraction.text import TfidfVectorizer"
   ]
  },
  {
   "cell_type": "code",
   "execution_count": 10,
   "id": "ea97314b",
   "metadata": {},
   "outputs": [
    {
     "data": {
      "text/plain": [
       "'I have bought several of the Vitality canned dog food products and have found them all to be of good quality. The product looks more like a stew than a processed meat and it smells better. My Labrador is finicky and she appreciates this product better than  most.'"
      ]
     },
     "execution_count": 10,
     "metadata": {},
     "output_type": "execute_result"
    }
   ],
   "source": [
    "sample_data['Text'][0]"
   ]
  },
  {
   "cell_type": "code",
   "execution_count": 11,
   "id": "0e1891f1",
   "metadata": {},
   "outputs": [],
   "source": [
    "vectorizer = CountVectorizer(stop_words='english')\n",
    "count_vector = vectorizer.fit_transform(sample_data['Text'])"
   ]
  },
  {
   "cell_type": "code",
   "execution_count": 12,
   "id": "51aecb8d",
   "metadata": {},
   "outputs": [],
   "source": [
    "transformer = TfidfTransformer()\n",
    "tfidf_vector = transformer.fit_transform(count_vector)"
   ]
  },
  {
   "cell_type": "markdown",
   "id": "26418a46",
   "metadata": {},
   "source": [
    "TfidfTransformer(CountVectorizer(input)) == TfidfVectorizer(input)"
   ]
  },
  {
   "cell_type": "code",
   "execution_count": 13,
   "id": "c1ed999a",
   "metadata": {},
   "outputs": [
    {
     "data": {
      "text/plain": [
       "0     0.202600\n",
       "1     0.168716\n",
       "2     0.000000\n",
       "3     0.000000\n",
       "4     0.000000\n",
       "5     0.000000\n",
       "6     0.000000\n",
       "7     0.000000\n",
       "8     0.000000\n",
       "9     0.000000\n",
       "10    0.000000\n",
       "11    0.068892\n",
       "12    0.000000\n",
       "13    0.000000\n",
       "14    0.000000\n",
       "15    0.000000\n",
       "16    0.000000\n",
       "17    0.000000\n",
       "18    0.040345\n",
       "19    0.000000\n",
       "Name: product, dtype: float64"
      ]
     },
     "execution_count": 13,
     "metadata": {},
     "output_type": "execute_result"
    }
   ],
   "source": [
    "tfidf = pd.DataFrame(tfidf_vector.toarray(),columns=vectorizer.get_feature_names())\n",
    "tfidf['product'].head(20) #隨便找一個詞來看一下"
   ]
  },
  {
   "cell_type": "code",
   "execution_count": 14,
   "id": "45fcd0a0",
   "metadata": {},
   "outputs": [],
   "source": [
    "df_tfidf = pd.concat([sample_data,tfidf],join='inner',axis=1)"
   ]
  },
  {
   "cell_type": "code",
   "execution_count": 15,
   "id": "a7f6f32d",
   "metadata": {},
   "outputs": [
    {
     "data": {
      "text/html": [
       "<div>\n",
       "<style scoped>\n",
       "    .dataframe tbody tr th:only-of-type {\n",
       "        vertical-align: middle;\n",
       "    }\n",
       "\n",
       "    .dataframe tbody tr th {\n",
       "        vertical-align: top;\n",
       "    }\n",
       "\n",
       "    .dataframe thead th {\n",
       "        text-align: right;\n",
       "    }\n",
       "</style>\n",
       "<table border=\"1\" class=\"dataframe\">\n",
       "  <thead>\n",
       "    <tr style=\"text-align: right;\">\n",
       "      <th></th>\n",
       "      <th>Text</th>\n",
       "      <th>Score</th>\n",
       "      <th>00</th>\n",
       "      <th>000</th>\n",
       "      <th>0003</th>\n",
       "      <th>000kwh</th>\n",
       "      <th>002</th>\n",
       "      <th>008</th>\n",
       "      <th>0100</th>\n",
       "      <th>0174</th>\n",
       "      <th>...</th>\n",
       "      <th>zon</th>\n",
       "      <th>zoo</th>\n",
       "      <th>zoom</th>\n",
       "      <th>zotz</th>\n",
       "      <th>zucchini</th>\n",
       "      <th>zuke</th>\n",
       "      <th>zukes</th>\n",
       "      <th>zupas</th>\n",
       "      <th>zuppa</th>\n",
       "      <th>ît</th>\n",
       "    </tr>\n",
       "  </thead>\n",
       "  <tbody>\n",
       "    <tr>\n",
       "      <th>0</th>\n",
       "      <td>I have bought several of the Vitality canned d...</td>\n",
       "      <td>1</td>\n",
       "      <td>0.0</td>\n",
       "      <td>0.0</td>\n",
       "      <td>0.0</td>\n",
       "      <td>0.0</td>\n",
       "      <td>0.0</td>\n",
       "      <td>0.0</td>\n",
       "      <td>0.0</td>\n",
       "      <td>0.0</td>\n",
       "      <td>...</td>\n",
       "      <td>0.0</td>\n",
       "      <td>0.0</td>\n",
       "      <td>0.0</td>\n",
       "      <td>0.0</td>\n",
       "      <td>0.0</td>\n",
       "      <td>0.0</td>\n",
       "      <td>0.0</td>\n",
       "      <td>0.0</td>\n",
       "      <td>0.0</td>\n",
       "      <td>0.0</td>\n",
       "    </tr>\n",
       "    <tr>\n",
       "      <th>1</th>\n",
       "      <td>Product arrived labeled as Jumbo Salted Peanut...</td>\n",
       "      <td>0</td>\n",
       "      <td>0.0</td>\n",
       "      <td>0.0</td>\n",
       "      <td>0.0</td>\n",
       "      <td>0.0</td>\n",
       "      <td>0.0</td>\n",
       "      <td>0.0</td>\n",
       "      <td>0.0</td>\n",
       "      <td>0.0</td>\n",
       "      <td>...</td>\n",
       "      <td>0.0</td>\n",
       "      <td>0.0</td>\n",
       "      <td>0.0</td>\n",
       "      <td>0.0</td>\n",
       "      <td>0.0</td>\n",
       "      <td>0.0</td>\n",
       "      <td>0.0</td>\n",
       "      <td>0.0</td>\n",
       "      <td>0.0</td>\n",
       "      <td>0.0</td>\n",
       "    </tr>\n",
       "    <tr>\n",
       "      <th>2</th>\n",
       "      <td>This is a confection that has been around a fe...</td>\n",
       "      <td>1</td>\n",
       "      <td>0.0</td>\n",
       "      <td>0.0</td>\n",
       "      <td>0.0</td>\n",
       "      <td>0.0</td>\n",
       "      <td>0.0</td>\n",
       "      <td>0.0</td>\n",
       "      <td>0.0</td>\n",
       "      <td>0.0</td>\n",
       "      <td>...</td>\n",
       "      <td>0.0</td>\n",
       "      <td>0.0</td>\n",
       "      <td>0.0</td>\n",
       "      <td>0.0</td>\n",
       "      <td>0.0</td>\n",
       "      <td>0.0</td>\n",
       "      <td>0.0</td>\n",
       "      <td>0.0</td>\n",
       "      <td>0.0</td>\n",
       "      <td>0.0</td>\n",
       "    </tr>\n",
       "    <tr>\n",
       "      <th>3</th>\n",
       "      <td>If you are looking for the secret ingredient i...</td>\n",
       "      <td>0</td>\n",
       "      <td>0.0</td>\n",
       "      <td>0.0</td>\n",
       "      <td>0.0</td>\n",
       "      <td>0.0</td>\n",
       "      <td>0.0</td>\n",
       "      <td>0.0</td>\n",
       "      <td>0.0</td>\n",
       "      <td>0.0</td>\n",
       "      <td>...</td>\n",
       "      <td>0.0</td>\n",
       "      <td>0.0</td>\n",
       "      <td>0.0</td>\n",
       "      <td>0.0</td>\n",
       "      <td>0.0</td>\n",
       "      <td>0.0</td>\n",
       "      <td>0.0</td>\n",
       "      <td>0.0</td>\n",
       "      <td>0.0</td>\n",
       "      <td>0.0</td>\n",
       "    </tr>\n",
       "    <tr>\n",
       "      <th>4</th>\n",
       "      <td>Great taffy at a great price.  There was a wid...</td>\n",
       "      <td>1</td>\n",
       "      <td>0.0</td>\n",
       "      <td>0.0</td>\n",
       "      <td>0.0</td>\n",
       "      <td>0.0</td>\n",
       "      <td>0.0</td>\n",
       "      <td>0.0</td>\n",
       "      <td>0.0</td>\n",
       "      <td>0.0</td>\n",
       "      <td>...</td>\n",
       "      <td>0.0</td>\n",
       "      <td>0.0</td>\n",
       "      <td>0.0</td>\n",
       "      <td>0.0</td>\n",
       "      <td>0.0</td>\n",
       "      <td>0.0</td>\n",
       "      <td>0.0</td>\n",
       "      <td>0.0</td>\n",
       "      <td>0.0</td>\n",
       "      <td>0.0</td>\n",
       "    </tr>\n",
       "  </tbody>\n",
       "</table>\n",
       "<p>5 rows × 18499 columns</p>\n",
       "</div>"
      ],
      "text/plain": [
       "                                                Text  Score   00  000  0003  \\\n",
       "0  I have bought several of the Vitality canned d...      1  0.0  0.0   0.0   \n",
       "1  Product arrived labeled as Jumbo Salted Peanut...      0  0.0  0.0   0.0   \n",
       "2  This is a confection that has been around a fe...      1  0.0  0.0   0.0   \n",
       "3  If you are looking for the secret ingredient i...      0  0.0  0.0   0.0   \n",
       "4  Great taffy at a great price.  There was a wid...      1  0.0  0.0   0.0   \n",
       "\n",
       "   000kwh  002  008  0100  0174  ...  zon  zoo  zoom  zotz  zucchini  zuke  \\\n",
       "0     0.0  0.0  0.0   0.0   0.0  ...  0.0  0.0   0.0   0.0       0.0   0.0   \n",
       "1     0.0  0.0  0.0   0.0   0.0  ...  0.0  0.0   0.0   0.0       0.0   0.0   \n",
       "2     0.0  0.0  0.0   0.0   0.0  ...  0.0  0.0   0.0   0.0       0.0   0.0   \n",
       "3     0.0  0.0  0.0   0.0   0.0  ...  0.0  0.0   0.0   0.0       0.0   0.0   \n",
       "4     0.0  0.0  0.0   0.0   0.0  ...  0.0  0.0   0.0   0.0       0.0   0.0   \n",
       "\n",
       "   zukes  zupas  zuppa   ît  \n",
       "0    0.0    0.0    0.0  0.0  \n",
       "1    0.0    0.0    0.0  0.0  \n",
       "2    0.0    0.0    0.0  0.0  \n",
       "3    0.0    0.0    0.0  0.0  \n",
       "4    0.0    0.0    0.0  0.0  \n",
       "\n",
       "[5 rows x 18499 columns]"
      ]
     },
     "execution_count": 15,
     "metadata": {},
     "output_type": "execute_result"
    }
   ],
   "source": [
    "df_tfidf.head()"
   ]
  },
  {
   "cell_type": "markdown",
   "id": "60476a08",
   "metadata": {},
   "source": [
    "### w2v實作"
   ]
  },
  {
   "cell_type": "code",
   "execution_count": 16,
   "id": "efdde365",
   "metadata": {},
   "outputs": [],
   "source": [
    "from gensim.parsing.preprocessing import remove_stopwords"
   ]
  },
  {
   "cell_type": "code",
   "execution_count": 17,
   "id": "ec01ebd7",
   "metadata": {},
   "outputs": [
    {
     "name": "stdout",
     "output_type": "stream",
     "text": [
      "I have bought several of the Vitality canned dog food products and have found them all to be of good quality. The product looks more like a stew than a processed meat and it smells better. My Labrador is finicky and she appreciates this product better than  most.\n",
      "I bought Vitality canned dog food products good quality. The product looks like stew processed meat smells better. My Labrador finicky appreciates product better most.\n"
     ]
    }
   ],
   "source": [
    "print(sample_data['Text'][0])\n",
    "print(remove_stopwords(sample_data['Text'][0]))"
   ]
  },
  {
   "cell_type": "code",
   "execution_count": 18,
   "id": "76772899",
   "metadata": {},
   "outputs": [
    {
     "data": {
      "text/plain": [
       "'I bought Vitality canned dog food products good quality. The product looks like stew processed meat smells better. My Labrador finicky appreciates product better most.'"
      ]
     },
     "execution_count": 18,
     "metadata": {},
     "output_type": "execute_result"
    }
   ],
   "source": [
    "w2v_words = []\n",
    "for Texts in sample_data['Text']:\n",
    "    w2v_words.append(remove_stopwords(Texts))\n",
    "w2v_words[0]"
   ]
  },
  {
   "cell_type": "markdown",
   "id": "4e4bcfd5",
   "metadata": {},
   "source": [
    "#### 用空白分割句子"
   ]
  },
  {
   "cell_type": "code",
   "execution_count": 19,
   "id": "79590ef3",
   "metadata": {},
   "outputs": [
    {
     "data": {
      "text/plain": [
       "['I',\n",
       " 'bought',\n",
       " 'Vitality',\n",
       " 'canned',\n",
       " 'dog',\n",
       " 'food',\n",
       " 'products',\n",
       " 'good',\n",
       " 'quality.',\n",
       " 'The',\n",
       " 'product',\n",
       " 'looks',\n",
       " 'like',\n",
       " 'stew',\n",
       " 'processed',\n",
       " 'meat',\n",
       " 'smells',\n",
       " 'better.',\n",
       " 'My',\n",
       " 'Labrador',\n",
       " 'finicky',\n",
       " 'appreciates',\n",
       " 'product',\n",
       " 'better',\n",
       " 'most.']"
      ]
     },
     "execution_count": 19,
     "metadata": {},
     "output_type": "execute_result"
    }
   ],
   "source": [
    "w2v_words_list = []\n",
    "for i in range(len(w2v_words)):\n",
    "    w2v_words_list.append(w2v_words[i].split())\n",
    "w2v_words_list[0]"
   ]
  },
  {
   "cell_type": "code",
   "execution_count": 20,
   "id": "91eb571b",
   "metadata": {},
   "outputs": [],
   "source": [
    "from gensim.models import Word2Vec\n",
    "model = Word2Vec(w2v_words_list,vector_size=300,min_count=10,window=5) \n",
    "#vector size決定dimension數量(多少個feature)\n",
    "#min count 表示詞出現多少次以上才計入\n",
    "#window Maximum distance between the current and predicted word within a sentence."
   ]
  },
  {
   "cell_type": "code",
   "execution_count": 21,
   "id": "a12f935c",
   "metadata": {},
   "outputs": [
    {
     "data": {
      "text/plain": [
       "array([ 1.72675233e-02,  2.88014889e-01, -6.02449030e-02, -1.15243951e-03,\n",
       "       -1.29582703e-01, -2.50166565e-01,  1.45383939e-01,  4.64902043e-01,\n",
       "        2.05339164e-01, -2.28777662e-01,  1.63434520e-01, -4.36167479e-01,\n",
       "        1.48335367e-01, -1.16442516e-01, -2.19491974e-01,  7.38900900e-02,\n",
       "        1.50169447e-01, -5.29956110e-02, -1.39451802e-01, -1.86075494e-01,\n",
       "       -3.92811328e-01, -5.65155260e-02,  1.34550547e-02,  1.21119961e-01,\n",
       "        1.66424036e-01,  2.30078056e-01, -2.38333046e-01, -5.31360321e-02,\n",
       "       -1.36958897e-01, -4.73605573e-01, -1.70814840e-03, -1.24676391e-01,\n",
       "        8.22380781e-02, -8.07563215e-03, -2.22525626e-01,  2.78399587e-01,\n",
       "        2.64357209e-01, -1.58445701e-01,  1.25250476e-03,  5.38070463e-02,\n",
       "       -3.11060071e-01,  1.19556747e-01, -4.96183395e-01, -4.54284668e-01,\n",
       "        3.88917387e-01,  5.13749151e-03,  1.42344937e-01,  7.15091750e-02,\n",
       "       -1.00792544e-02,  1.31137982e-01, -1.26689374e-01, -5.70178255e-02,\n",
       "       -4.97880839e-02, -1.30253866e-01,  1.28553912e-01, -2.99032301e-01,\n",
       "        2.07884178e-01,  1.85118929e-01, -1.00753903e-01,  2.24178314e-01,\n",
       "        1.46198019e-01, -2.20670879e-01, -1.03361011e-01, -2.94376671e-01,\n",
       "       -3.30530673e-01,  7.25551397e-02,  4.64257114e-02,  4.67755347e-02,\n",
       "        7.93063045e-02, -5.37790805e-02,  1.37907743e-01,  5.08176722e-02,\n",
       "        1.82098731e-01, -5.71260080e-02,  1.53924391e-01,  2.70281672e-01,\n",
       "       -2.04148926e-02, -9.48284566e-03,  1.71065122e-01,  9.09102485e-02,\n",
       "       -3.28223407e-01,  2.28484534e-02,  4.21905756e-01,  1.46063492e-01,\n",
       "       -5.37360720e-02,  2.68982146e-02, -5.90400659e-02,  3.23740244e-01,\n",
       "        3.31517845e-01,  3.33459139e-01,  6.53560013e-02,  3.01071089e-02,\n",
       "        2.27496624e-01,  1.04460649e-01,  4.48949546e-01,  2.88127244e-01,\n",
       "        3.17814387e-02,  1.05344251e-01,  7.31516257e-02,  4.06004727e-01,\n",
       "       -1.69944033e-01, -1.35403007e-01,  1.91699341e-01,  3.56269270e-01,\n",
       "       -2.56456107e-01, -2.14181498e-01,  1.37040392e-01, -1.66316645e-03,\n",
       "       -2.90697038e-01, -2.16859151e-02, -2.78982997e-01, -6.29168469e-03,\n",
       "       -1.64783254e-01,  2.09121138e-01, -1.32053643e-01,  8.61715749e-02,\n",
       "        1.19369313e-01,  4.97556359e-01,  4.91384536e-01,  3.77006792e-02,\n",
       "        1.19253792e-01,  1.36402369e-01, -1.24984182e-01,  2.30125971e-02,\n",
       "       -1.56490579e-01,  2.05061778e-01,  8.68756995e-02,  3.30510251e-02,\n",
       "       -9.13038105e-02,  3.05268824e-01,  2.58363396e-01,  8.04558471e-02,\n",
       "        1.66492179e-01, -1.66900784e-01, -1.29889548e-01, -1.52289716e-03,\n",
       "       -7.59490058e-02, -2.76377022e-01,  2.75788978e-02, -1.40176833e-01,\n",
       "        2.19453186e-01, -5.43479621e-01, -2.71690607e-01,  2.62676954e-01,\n",
       "        5.25891781e-01, -1.80754378e-01, -1.48382246e-01, -2.33019441e-01,\n",
       "        2.38226354e-02, -1.92602709e-01,  1.10792510e-01, -4.67664510e-01,\n",
       "       -1.87556639e-01, -2.36596033e-01, -1.19223595e-01,  2.81480849e-02,\n",
       "       -2.46166080e-01,  1.70834109e-01, -7.55715370e-02,  6.26763999e-02,\n",
       "       -8.25664178e-02,  6.56677363e-03, -1.51016623e-01,  1.30853638e-01,\n",
       "        5.16906455e-02,  7.00924024e-02,  1.91141278e-01, -3.87137264e-01,\n",
       "        7.51783997e-02,  6.40377879e-01,  8.67986977e-02, -4.60270643e-02,\n",
       "        5.15053794e-02, -2.10269317e-02,  7.97984973e-02, -1.08251926e-02,\n",
       "       -3.50379735e-01, -1.62946507e-01,  6.18928634e-02, -1.73706487e-02,\n",
       "       -1.40661195e-01, -1.15009218e-01, -2.95991868e-01, -1.79221675e-01,\n",
       "       -1.01729386e-01, -3.07885736e-01,  3.53033334e-01,  7.99987391e-02,\n",
       "       -1.39489090e-02, -1.85217738e-01, -1.45979181e-01,  1.12274796e-01,\n",
       "       -4.78662491e-01, -1.37943998e-01,  4.56422381e-02, -2.94087380e-01,\n",
       "        1.72240511e-01,  4.76164185e-02,  1.15251809e-01,  1.40963197e-01,\n",
       "       -1.94781780e-01, -4.28164527e-02,  8.61747488e-02, -8.56574774e-02,\n",
       "       -1.35192737e-01,  1.71804070e-01, -1.45677865e-01,  5.20886332e-02,\n",
       "        2.48694956e-01,  1.24672391e-02, -1.32878214e-01, -3.80855143e-01,\n",
       "        1.20306283e-01,  9.22107846e-02,  4.59538460e-01, -3.07571262e-01,\n",
       "       -2.04210747e-02, -3.36357206e-01, -1.67807072e-01, -1.55375823e-01,\n",
       "        2.11325407e-01, -1.99537203e-01, -4.73675460e-01, -3.35757844e-02,\n",
       "        6.44944683e-02, -2.43812755e-01,  4.63027894e-01, -2.14741319e-01,\n",
       "       -1.48171410e-01, -1.08107254e-02,  2.19359055e-01,  1.02271721e-01,\n",
       "       -4.12839800e-01,  1.63868368e-02,  6.81552067e-02,  1.05806418e-01,\n",
       "       -3.24247144e-02,  1.34973124e-01,  1.31712958e-01, -1.69510171e-01,\n",
       "        3.19839984e-01, -1.88570172e-01, -5.08780181e-01,  2.88388729e-01,\n",
       "        1.49669036e-01,  6.24753302e-04, -1.57403842e-01,  6.55291378e-02,\n",
       "       -1.02679737e-01,  2.94921517e-01,  1.16797224e-01,  2.17940375e-01,\n",
       "        1.49810284e-01, -1.49288774e-02, -2.07973301e-01, -9.73565802e-02,\n",
       "        1.34697720e-01,  1.43017769e-01, -8.15868139e-01, -3.72902513e-01,\n",
       "       -1.51483864e-01, -3.61158885e-02,  1.21239409e-01, -2.23338336e-01,\n",
       "        2.71554571e-02, -7.81802833e-02,  4.36930299e-01,  4.42611635e-01,\n",
       "       -2.66008496e-01,  2.78032243e-01, -1.13256484e-01, -2.17262730e-01,\n",
       "       -1.34678602e-01,  3.46141197e-02,  8.79722610e-02,  2.27204427e-01,\n",
       "        1.24367610e-01,  1.04633734e-01, -2.31918976e-01, -3.00580170e-02,\n",
       "       -8.97282735e-02, -1.80901676e-01,  1.40921194e-02, -4.16245535e-02,\n",
       "       -3.44065607e-01,  1.60970092e-01, -4.63774621e-01,  8.58251527e-02,\n",
       "        2.49275133e-01,  1.53937161e-01,  2.30612531e-02,  2.24792175e-02,\n",
       "        1.21892974e-01, -3.41442287e-01,  1.07280023e-01,  1.52180150e-01,\n",
       "        3.40344594e-03, -3.46540868e-01, -6.88906237e-02, -4.58777472e-02],\n",
       "      dtype=float32)"
      ]
     },
     "execution_count": 21,
     "metadata": {},
     "output_type": "execute_result"
    }
   ],
   "source": [
    "model.wv['product'] #詞所代表的向量"
   ]
  },
  {
   "cell_type": "code",
   "execution_count": 22,
   "id": "c915756c",
   "metadata": {},
   "outputs": [
    {
     "name": "stdout",
     "output_type": "stream",
     "text": [
      "總共取5142個字,每個字有300個維度\n"
     ]
    }
   ],
   "source": [
    "print(f'總共取{len(model.wv)}個字,每個字有{len(model.wv[0])}個維度')"
   ]
  },
  {
   "cell_type": "code",
   "execution_count": 23,
   "id": "dc095a19",
   "metadata": {},
   "outputs": [
    {
     "data": {
      "text/plain": [
       "5142"
      ]
     },
     "execution_count": 23,
     "metadata": {},
     "output_type": "execute_result"
    }
   ],
   "source": [
    "len((model.wv.index_to_key)) #index為詞，column為feature(300)"
   ]
  },
  {
   "cell_type": "markdown",
   "id": "56bfd808",
   "metadata": {},
   "source": [
    "再來要計算每句話的平均Feature，先找出哪些詞有出現，再根據有出現的詞做平均"
   ]
  },
  {
   "cell_type": "code",
   "execution_count": 24,
   "id": "4cdc0fd2",
   "metadata": {},
   "outputs": [],
   "source": [
    "import numpy as np"
   ]
  },
  {
   "cell_type": "code",
   "execution_count": 25,
   "id": "6271da6b",
   "metadata": {
    "scrolled": false
   },
   "outputs": [
    {
     "data": {
      "text/html": [
       "<div>\n",
       "<style scoped>\n",
       "    .dataframe tbody tr th:only-of-type {\n",
       "        vertical-align: middle;\n",
       "    }\n",
       "\n",
       "    .dataframe tbody tr th {\n",
       "        vertical-align: top;\n",
       "    }\n",
       "\n",
       "    .dataframe thead th {\n",
       "        text-align: right;\n",
       "    }\n",
       "</style>\n",
       "<table border=\"1\" class=\"dataframe\">\n",
       "  <thead>\n",
       "    <tr style=\"text-align: right;\">\n",
       "      <th></th>\n",
       "      <th>Text</th>\n",
       "      <th>Score</th>\n",
       "      <th>0</th>\n",
       "      <th>1</th>\n",
       "      <th>2</th>\n",
       "      <th>3</th>\n",
       "      <th>4</th>\n",
       "      <th>5</th>\n",
       "      <th>6</th>\n",
       "      <th>7</th>\n",
       "      <th>...</th>\n",
       "      <th>290</th>\n",
       "      <th>291</th>\n",
       "      <th>292</th>\n",
       "      <th>293</th>\n",
       "      <th>294</th>\n",
       "      <th>295</th>\n",
       "      <th>296</th>\n",
       "      <th>297</th>\n",
       "      <th>298</th>\n",
       "      <th>299</th>\n",
       "    </tr>\n",
       "  </thead>\n",
       "  <tbody>\n",
       "    <tr>\n",
       "      <th>0</th>\n",
       "      <td>I have bought several of the Vitality canned d...</td>\n",
       "      <td>1</td>\n",
       "      <td>-0.027959</td>\n",
       "      <td>0.245138</td>\n",
       "      <td>-0.043531</td>\n",
       "      <td>0.119486</td>\n",
       "      <td>-0.024511</td>\n",
       "      <td>-0.281336</td>\n",
       "      <td>0.070776</td>\n",
       "      <td>0.354023</td>\n",
       "      <td>...</td>\n",
       "      <td>-0.009458</td>\n",
       "      <td>0.216101</td>\n",
       "      <td>0.287688</td>\n",
       "      <td>-0.201719</td>\n",
       "      <td>0.197139</td>\n",
       "      <td>0.221891</td>\n",
       "      <td>-0.049641</td>\n",
       "      <td>-0.091092</td>\n",
       "      <td>0.139009</td>\n",
       "      <td>0.029154</td>\n",
       "    </tr>\n",
       "    <tr>\n",
       "      <th>1</th>\n",
       "      <td>Product arrived labeled as Jumbo Salted Peanut...</td>\n",
       "      <td>0</td>\n",
       "      <td>0.000311</td>\n",
       "      <td>0.226615</td>\n",
       "      <td>-0.049388</td>\n",
       "      <td>0.086323</td>\n",
       "      <td>-0.039253</td>\n",
       "      <td>-0.260148</td>\n",
       "      <td>0.064660</td>\n",
       "      <td>0.342760</td>\n",
       "      <td>...</td>\n",
       "      <td>-0.016318</td>\n",
       "      <td>0.140172</td>\n",
       "      <td>0.179877</td>\n",
       "      <td>-0.155793</td>\n",
       "      <td>0.109781</td>\n",
       "      <td>0.186728</td>\n",
       "      <td>-0.037544</td>\n",
       "      <td>-0.087230</td>\n",
       "      <td>0.092261</td>\n",
       "      <td>-0.036596</td>\n",
       "    </tr>\n",
       "    <tr>\n",
       "      <th>2</th>\n",
       "      <td>This is a confection that has been around a fe...</td>\n",
       "      <td>1</td>\n",
       "      <td>-0.012225</td>\n",
       "      <td>0.234607</td>\n",
       "      <td>-0.052463</td>\n",
       "      <td>0.112305</td>\n",
       "      <td>-0.035047</td>\n",
       "      <td>-0.265333</td>\n",
       "      <td>0.059659</td>\n",
       "      <td>0.357397</td>\n",
       "      <td>...</td>\n",
       "      <td>0.031916</td>\n",
       "      <td>0.149118</td>\n",
       "      <td>0.209803</td>\n",
       "      <td>-0.132396</td>\n",
       "      <td>0.098234</td>\n",
       "      <td>0.220340</td>\n",
       "      <td>0.035993</td>\n",
       "      <td>-0.069537</td>\n",
       "      <td>0.199743</td>\n",
       "      <td>-0.051426</td>\n",
       "    </tr>\n",
       "    <tr>\n",
       "      <th>3</th>\n",
       "      <td>If you are looking for the secret ingredient i...</td>\n",
       "      <td>0</td>\n",
       "      <td>-0.023246</td>\n",
       "      <td>0.241019</td>\n",
       "      <td>-0.006543</td>\n",
       "      <td>0.088321</td>\n",
       "      <td>-0.037592</td>\n",
       "      <td>-0.323466</td>\n",
       "      <td>0.075459</td>\n",
       "      <td>0.457880</td>\n",
       "      <td>...</td>\n",
       "      <td>-0.093818</td>\n",
       "      <td>0.167152</td>\n",
       "      <td>0.293918</td>\n",
       "      <td>-0.106076</td>\n",
       "      <td>0.206972</td>\n",
       "      <td>0.290518</td>\n",
       "      <td>0.124106</td>\n",
       "      <td>-0.040863</td>\n",
       "      <td>0.215021</td>\n",
       "      <td>-0.055944</td>\n",
       "    </tr>\n",
       "    <tr>\n",
       "      <th>4</th>\n",
       "      <td>Great taffy at a great price.  There was a wid...</td>\n",
       "      <td>1</td>\n",
       "      <td>0.010424</td>\n",
       "      <td>0.189464</td>\n",
       "      <td>-0.062288</td>\n",
       "      <td>0.092318</td>\n",
       "      <td>-0.033870</td>\n",
       "      <td>-0.217970</td>\n",
       "      <td>0.058472</td>\n",
       "      <td>0.263572</td>\n",
       "      <td>...</td>\n",
       "      <td>0.023523</td>\n",
       "      <td>0.115695</td>\n",
       "      <td>0.144575</td>\n",
       "      <td>-0.100909</td>\n",
       "      <td>0.070387</td>\n",
       "      <td>0.150014</td>\n",
       "      <td>0.018097</td>\n",
       "      <td>-0.046799</td>\n",
       "      <td>0.144751</td>\n",
       "      <td>-0.026114</td>\n",
       "    </tr>\n",
       "  </tbody>\n",
       "</table>\n",
       "<p>5 rows × 302 columns</p>\n",
       "</div>"
      ],
      "text/plain": [
       "                                                Text  Score         0  \\\n",
       "0  I have bought several of the Vitality canned d...      1 -0.027959   \n",
       "1  Product arrived labeled as Jumbo Salted Peanut...      0  0.000311   \n",
       "2  This is a confection that has been around a fe...      1 -0.012225   \n",
       "3  If you are looking for the secret ingredient i...      0 -0.023246   \n",
       "4  Great taffy at a great price.  There was a wid...      1  0.010424   \n",
       "\n",
       "          1         2         3         4         5         6         7  ...  \\\n",
       "0  0.245138 -0.043531  0.119486 -0.024511 -0.281336  0.070776  0.354023  ...   \n",
       "1  0.226615 -0.049388  0.086323 -0.039253 -0.260148  0.064660  0.342760  ...   \n",
       "2  0.234607 -0.052463  0.112305 -0.035047 -0.265333  0.059659  0.357397  ...   \n",
       "3  0.241019 -0.006543  0.088321 -0.037592 -0.323466  0.075459  0.457880  ...   \n",
       "4  0.189464 -0.062288  0.092318 -0.033870 -0.217970  0.058472  0.263572  ...   \n",
       "\n",
       "        290       291       292       293       294       295       296  \\\n",
       "0 -0.009458  0.216101  0.287688 -0.201719  0.197139  0.221891 -0.049641   \n",
       "1 -0.016318  0.140172  0.179877 -0.155793  0.109781  0.186728 -0.037544   \n",
       "2  0.031916  0.149118  0.209803 -0.132396  0.098234  0.220340  0.035993   \n",
       "3 -0.093818  0.167152  0.293918 -0.106076  0.206972  0.290518  0.124106   \n",
       "4  0.023523  0.115695  0.144575 -0.100909  0.070387  0.150014  0.018097   \n",
       "\n",
       "        297       298       299  \n",
       "0 -0.091092  0.139009  0.029154  \n",
       "1 -0.087230  0.092261 -0.036596  \n",
       "2 -0.069537  0.199743 -0.051426  \n",
       "3 -0.040863  0.215021 -0.055944  \n",
       "4 -0.046799  0.144751 -0.026114  \n",
       "\n",
       "[5 rows x 302 columns]"
      ]
     },
     "execution_count": 25,
     "metadata": {},
     "output_type": "execute_result"
    }
   ],
   "source": [
    "feature_avg = np.zeros((len(w2v_words_list),len(model.wv[0]))) #總表\n",
    "sentence_index = 0\n",
    "w2v_index = model.wv.index_to_key                              # index為詞,col_name為300個 feature\n",
    "for words in w2v_words_list:                                   # iter 每個 comment\n",
    "    word_count = 0                                             # 計算重要的 word在所有 comment裡的次數\n",
    "    feature_vec = np.zeros(len(model.wv[0]),dtype = 'float32') # 該 comment的feature \n",
    "    for word in words:                                         # iter每個 comment中的每個 word   \n",
    "        if word in model.wv.index_to_key:                      # 若該 word有出現在 wv裡(表示相對重要)\n",
    "            word_count += 1\n",
    "            word_vector = model.wv[word]                       # 取出該 word在 w2v裡的300個 feature\n",
    "            feature_vec = feature_vec + word_vector            # 記得這裡是(1,300)的運算\n",
    "    avg = feature_vec / word_count                             # 計算該 comment裡，total feature/ 重要 word數量 = avg\n",
    "    feature_avg[sentence_index] = avg                          # 將 avg儲存在總表裡 \n",
    "    sentence_index += 1                                        # 移動到下一個 comment\n",
    "df_w2v = pd.concat([sample_data,pd.DataFrame(feature_avg)],join='inner',axis=1)\n",
    "df_w2v.head()"
   ]
  },
  {
   "cell_type": "code",
   "execution_count": 26,
   "id": "1d6d7f31",
   "metadata": {},
   "outputs": [],
   "source": [
    "from sklearn import ensemble, preprocessing, metrics"
   ]
  },
  {
   "cell_type": "code",
   "execution_count": 27,
   "id": "6dc4b5f9",
   "metadata": {},
   "outputs": [],
   "source": [
    "def k_fold_crossvalidation(k:int ,data): #k = 切幾分\n",
    "    \n",
    "    #切割資料\n",
    "    subset_size = int(len(data)/k)       #每個子集的長度\n",
    "    avg_acc = 0                          #等等算平均用的\n",
    "    total_acc = 0\n",
    "    for i in range(k):\n",
    "        start = subset_size * i\n",
    "        end = start + subset_size\n",
    "        valid = data[start:end]\n",
    "        \n",
    "        valid_x = valid.drop(['Score','Text'], axis = 1)\n",
    "        valid_y = valid[['Score']]\n",
    "                              \n",
    "        if i == 0:\n",
    "            train = data[end:]\n",
    "        else:\n",
    "            train = pd.concat([data[:start],data[end:]],axis=0,join ='inner',ignore_index=True)\n",
    "        train_x = train.drop(['Score','Text'], axis = 1)\n",
    "        train_y = train[['Score']]\n",
    "    \n",
    "        #開始種樹長森林\n",
    "        forest = ensemble.RandomForestClassifier(n_estimators=100) #n_estimators決定有幾棵樹在森林\n",
    "        forest_fit = forest.fit(train_x,train_y)\n",
    "        valid_y_predicted = forest_fit.predict(valid_x)\n",
    "        sub_acc = metrics.accuracy_score(valid_y,valid_y_predicted)\n",
    "        print(f'valid為:{start},{end}')\n",
    "        print(f'此subset_acc為{sub_acc}')\n",
    "\n",
    "        total_acc += sub_acc\n",
    "    avg_acc = total_acc / k\n",
    "    return avg_acc"
   ]
  },
  {
   "cell_type": "code",
   "execution_count": 28,
   "id": "ad99536a",
   "metadata": {},
   "outputs": [
    {
     "name": "stderr",
     "output_type": "stream",
     "text": [
      "<ipython-input-27-ef38defc6100>:24: DataConversionWarning: A column-vector y was passed when a 1d array was expected. Please change the shape of y to (n_samples,), for example using ravel().\n",
      "  forest_fit = forest.fit(train_x,train_y)\n"
     ]
    },
    {
     "name": "stdout",
     "output_type": "stream",
     "text": [
      "valid為:0,2500\n",
      "此subset_acc為0.8124\n"
     ]
    },
    {
     "name": "stderr",
     "output_type": "stream",
     "text": [
      "<ipython-input-27-ef38defc6100>:24: DataConversionWarning: A column-vector y was passed when a 1d array was expected. Please change the shape of y to (n_samples,), for example using ravel().\n",
      "  forest_fit = forest.fit(train_x,train_y)\n"
     ]
    },
    {
     "name": "stdout",
     "output_type": "stream",
     "text": [
      "valid為:2500,5000\n",
      "此subset_acc為0.8048\n"
     ]
    },
    {
     "name": "stderr",
     "output_type": "stream",
     "text": [
      "<ipython-input-27-ef38defc6100>:24: DataConversionWarning: A column-vector y was passed when a 1d array was expected. Please change the shape of y to (n_samples,), for example using ravel().\n",
      "  forest_fit = forest.fit(train_x,train_y)\n"
     ]
    },
    {
     "name": "stdout",
     "output_type": "stream",
     "text": [
      "valid為:5000,7500\n",
      "此subset_acc為0.7948\n"
     ]
    },
    {
     "name": "stderr",
     "output_type": "stream",
     "text": [
      "<ipython-input-27-ef38defc6100>:24: DataConversionWarning: A column-vector y was passed when a 1d array was expected. Please change the shape of y to (n_samples,), for example using ravel().\n",
      "  forest_fit = forest.fit(train_x,train_y)\n"
     ]
    },
    {
     "name": "stdout",
     "output_type": "stream",
     "text": [
      "valid為:7500,10000\n",
      "此subset_acc為0.802\n"
     ]
    },
    {
     "data": {
      "text/plain": [
       "0.8035"
      ]
     },
     "execution_count": 28,
     "metadata": {},
     "output_type": "execute_result"
    }
   ],
   "source": [
    "k_fold_crossvalidation(4,df_tfidf)"
   ]
  },
  {
   "cell_type": "code",
   "execution_count": 29,
   "id": "8708d2e3",
   "metadata": {},
   "outputs": [
    {
     "name": "stderr",
     "output_type": "stream",
     "text": [
      "<ipython-input-27-ef38defc6100>:24: DataConversionWarning: A column-vector y was passed when a 1d array was expected. Please change the shape of y to (n_samples,), for example using ravel().\n",
      "  forest_fit = forest.fit(train_x,train_y)\n"
     ]
    },
    {
     "name": "stdout",
     "output_type": "stream",
     "text": [
      "valid為:0,2500\n",
      "此subset_acc為0.7716\n"
     ]
    },
    {
     "name": "stderr",
     "output_type": "stream",
     "text": [
      "<ipython-input-27-ef38defc6100>:24: DataConversionWarning: A column-vector y was passed when a 1d array was expected. Please change the shape of y to (n_samples,), for example using ravel().\n",
      "  forest_fit = forest.fit(train_x,train_y)\n"
     ]
    },
    {
     "name": "stdout",
     "output_type": "stream",
     "text": [
      "valid為:2500,5000\n",
      "此subset_acc為0.766\n"
     ]
    },
    {
     "name": "stderr",
     "output_type": "stream",
     "text": [
      "<ipython-input-27-ef38defc6100>:24: DataConversionWarning: A column-vector y was passed when a 1d array was expected. Please change the shape of y to (n_samples,), for example using ravel().\n",
      "  forest_fit = forest.fit(train_x,train_y)\n"
     ]
    },
    {
     "name": "stdout",
     "output_type": "stream",
     "text": [
      "valid為:5000,7500\n",
      "此subset_acc為0.746\n"
     ]
    },
    {
     "name": "stderr",
     "output_type": "stream",
     "text": [
      "<ipython-input-27-ef38defc6100>:24: DataConversionWarning: A column-vector y was passed when a 1d array was expected. Please change the shape of y to (n_samples,), for example using ravel().\n",
      "  forest_fit = forest.fit(train_x,train_y)\n"
     ]
    },
    {
     "name": "stdout",
     "output_type": "stream",
     "text": [
      "valid為:7500,10000\n",
      "此subset_acc為0.7592\n"
     ]
    },
    {
     "data": {
      "text/plain": [
       "0.7606999999999999"
      ]
     },
     "execution_count": 29,
     "metadata": {},
     "output_type": "execute_result"
    }
   ],
   "source": [
    "k_fold_crossvalidation(4,df_w2v)"
   ]
  },
  {
   "cell_type": "code",
   "execution_count": null,
   "id": "b6a09b1f",
   "metadata": {},
   "outputs": [],
   "source": []
  }
 ],
 "metadata": {
  "kernelspec": {
   "display_name": "Python 3",
   "language": "python",
   "name": "python3"
  },
  "language_info": {
   "codemirror_mode": {
    "name": "ipython",
    "version": 3
   },
   "file_extension": ".py",
   "mimetype": "text/x-python",
   "name": "python",
   "nbconvert_exporter": "python",
   "pygments_lexer": "ipython3",
   "version": "3.8.8"
  }
 },
 "nbformat": 4,
 "nbformat_minor": 5
}
